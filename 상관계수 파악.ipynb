{
 "cells": [
  {
   "cell_type": "code",
   "execution_count": 10,
   "metadata": {},
   "outputs": [],
   "source": [
    "import pandas as pd\n",
    "import seaborn as sns"
   ]
  },
  {
   "cell_type": "code",
   "execution_count": 2,
   "metadata": {},
   "outputs": [],
   "source": [
    "df = pd.read_csv(\"NAomitfinal.csv\")"
   ]
  },
  {
   "cell_type": "code",
   "execution_count": 3,
   "metadata": {},
   "outputs": [
    {
     "name": "stdout",
     "output_type": "stream",
     "text": [
      "<class 'pandas.core.frame.DataFrame'>\n",
      "RangeIndex: 9449 entries, 0 to 9448\n",
      "Data columns (total 17 columns):\n",
      " #   Column             Non-Null Count  Dtype  \n",
      "---  ------             --------------  -----  \n",
      " 0   Unnamed: 0         9449 non-null   int64  \n",
      " 1   ONBOARD            9449 non-null   object \n",
      " 2   NATION             9449 non-null   object \n",
      " 3   DESTINATION        9449 non-null   object \n",
      " 4   total              9449 non-null   float64\n",
      " 5   EXRATE             9449 non-null   float64\n",
      " 6   gsugi              9449 non-null   float64\n",
      " 7   mulga              9449 non-null   float64\n",
      " 8   oilprice           9449 non-null   float64\n",
      " 9   die                9449 non-null   int64  \n",
      " 10  rain               9449 non-null   float64\n",
      " 11  rainF              9449 non-null   int64  \n",
      " 12  corona             9449 non-null   int64  \n",
      " 13  scfi               9449 non-null   int64  \n",
      " 14  kospi              9449 non-null   float64\n",
      " 15  tide_AGAINST.TIDE  9449 non-null   int64  \n",
      " 16  tide_WITH.TIDE     9449 non-null   int64  \n",
      "dtypes: float64(7), int64(7), object(3)\n",
      "memory usage: 1.2+ MB\n"
     ]
    }
   ],
   "source": [
    "df.info()"
   ]
  },
  {
   "cell_type": "code",
   "execution_count": 4,
   "metadata": {},
   "outputs": [],
   "source": [
    "droplist = ['Unnamed: 0','ONBOARD','NATION']\n",
    "\n",
    "df1 = df.drop(droplist, axis=1)"
   ]
  },
  {
   "cell_type": "code",
   "execution_count": 12,
   "metadata": {},
   "outputs": [],
   "source": [
    "corr_matrix = df1.corr()\n",
    "A = corr_matrix['total'].sort_values(ascending=False)\n",
    "A = A.to_frame()"
   ]
  },
  {
   "cell_type": "code",
   "execution_count": 13,
   "metadata": {},
   "outputs": [
    {
     "data": {
      "text/html": [
       "<div>\n",
       "<style scoped>\n",
       "    .dataframe tbody tr th:only-of-type {\n",
       "        vertical-align: middle;\n",
       "    }\n",
       "\n",
       "    .dataframe tbody tr th {\n",
       "        vertical-align: top;\n",
       "    }\n",
       "\n",
       "    .dataframe thead th {\n",
       "        text-align: right;\n",
       "    }\n",
       "</style>\n",
       "<table border=\"1\" class=\"dataframe\">\n",
       "  <thead>\n",
       "    <tr style=\"text-align: right;\">\n",
       "      <th></th>\n",
       "      <th>total</th>\n",
       "    </tr>\n",
       "  </thead>\n",
       "  <tbody>\n",
       "    <tr>\n",
       "      <th>total</th>\n",
       "      <td>1.000000</td>\n",
       "    </tr>\n",
       "    <tr>\n",
       "      <th>tide_WITH.TIDE</th>\n",
       "      <td>0.478029</td>\n",
       "    </tr>\n",
       "    <tr>\n",
       "      <th>mulga</th>\n",
       "      <td>0.202059</td>\n",
       "    </tr>\n",
       "    <tr>\n",
       "      <th>die</th>\n",
       "      <td>0.177208</td>\n",
       "    </tr>\n",
       "    <tr>\n",
       "      <th>EXRATE</th>\n",
       "      <td>0.090452</td>\n",
       "    </tr>\n",
       "    <tr>\n",
       "      <th>corona</th>\n",
       "      <td>0.077221</td>\n",
       "    </tr>\n",
       "    <tr>\n",
       "      <th>oilprice</th>\n",
       "      <td>0.055643</td>\n",
       "    </tr>\n",
       "    <tr>\n",
       "      <th>kospi</th>\n",
       "      <td>0.052748</td>\n",
       "    </tr>\n",
       "    <tr>\n",
       "      <th>scfi</th>\n",
       "      <td>0.008195</td>\n",
       "    </tr>\n",
       "    <tr>\n",
       "      <th>rain</th>\n",
       "      <td>-0.004472</td>\n",
       "    </tr>\n",
       "    <tr>\n",
       "      <th>rainF</th>\n",
       "      <td>-0.010077</td>\n",
       "    </tr>\n",
       "    <tr>\n",
       "      <th>gsugi</th>\n",
       "      <td>-0.067474</td>\n",
       "    </tr>\n",
       "    <tr>\n",
       "      <th>tide_AGAINST.TIDE</th>\n",
       "      <td>-0.478029</td>\n",
       "    </tr>\n",
       "  </tbody>\n",
       "</table>\n",
       "</div>"
      ],
      "text/plain": [
       "                      total\n",
       "total              1.000000\n",
       "tide_WITH.TIDE     0.478029\n",
       "mulga              0.202059\n",
       "die                0.177208\n",
       "EXRATE             0.090452\n",
       "corona             0.077221\n",
       "oilprice           0.055643\n",
       "kospi              0.052748\n",
       "scfi               0.008195\n",
       "rain              -0.004472\n",
       "rainF             -0.010077\n",
       "gsugi             -0.067474\n",
       "tide_AGAINST.TIDE -0.478029"
      ]
     },
     "execution_count": 13,
     "metadata": {},
     "output_type": "execute_result"
    }
   ],
   "source": [
    "A"
   ]
  },
  {
   "cell_type": "code",
   "execution_count": 14,
   "metadata": {},
   "outputs": [
    {
     "data": {
      "image/png": "[encoded data removed]",
      "text/plain": [
       "<Figure size 1080x1080 with 2 Axes>"
      ]
     },
     "metadata": {
      "needs_background": "light"
     },
     "output_type": "display_data"
    }
   ],
   "source": [
    "# 그래프 상관관계로 표현하기 \n",
    "%matplotlib inline   \n",
    "import matplotlib.pyplot as plt \n",
    "import seaborn as sns   \n",
    "\n",
    "plt.figure(figsize=(15,15))\n",
    "sns.heatmap(A, annot=True, \n",
    "fmt = '.2f', linewidths=.5, cmap='Blues')\n",
    "\n",
    "plt.savefig(r\"상관계수.png\", encoding=\"utf-8\")"
   ]
  },
  {
   "cell_type": "code",
   "execution_count": null,
   "metadata": {},
   "outputs": [],
   "source": []
  }
 ],
 "metadata": {
  "kernelspec": {
   "display_name": "Python 3",
   "language": "python",
   "name": "python3"
  },
  "language_info": {
   "codemirror_mode": {
    "name": "ipython",
    "version": 3
   },
   "file_extension": ".py",
   "mimetype": "text/x-python",
   "name": "python",
   "nbconvert_exporter": "python",
   "pygments_lexer": "ipython3",
   "version": "3.8.3"
  }
 },
 "nbformat": 4,
 "nbformat_minor": 4
}
